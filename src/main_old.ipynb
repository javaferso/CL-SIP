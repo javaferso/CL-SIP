{
 "cells": [
  {
   "cell_type": "code",
   "execution_count": 3,
   "metadata": {},
   "outputs": [
    {
     "name": "stderr",
     "output_type": "stream",
     "text": [
      "/Users/luissalazar/Documents/BF/smu_04_modelo_produccion/flux_mockup/src/utils/pydantic_BaseModel.py:74: UserWarning: Parsing dates in %d-%m-%Y format when dayfirst=False (the default) was specified. Pass `dayfirst=True` or specify a format to silence this warning.\n",
      "  return pd.to_datetime(value).date()\n",
      "/Users/luissalazar/Documents/BF/smu_04_modelo_produccion/flux_mockup/src/utils/pydantic_BaseModel.py:107: UserWarning: Parsing dates in %d-%m-%Y format when dayfirst=False (the default) was specified. Pass `dayfirst=True` or specify a format to silence this warning.\n",
      "  return pd.to_datetime(value).date()\n"
     ]
    },
    {
     "name": "stdout",
     "output_type": "stream",
     "text": [
      "Solo se puede producir pollo pre-horneado\n"
     ]
    },
    {
     "ename": "KeyError",
     "evalue": "'number'",
     "output_type": "error",
     "traceback": [
      "\u001b[0;31m---------------------------------------------------------------------------\u001b[0m",
      "\u001b[0;31mKeyError\u001b[0m                                  Traceback (most recent call last)",
      "File \u001b[0;32m~/Documents/BF/smu_04_modelo_produccion/flux_mockup/env/lib/python3.10/site-packages/pandas/core/indexes/base.py:3790\u001b[0m, in \u001b[0;36mIndex.get_loc\u001b[0;34m(self, key)\u001b[0m\n\u001b[1;32m   3789\u001b[0m \u001b[39mtry\u001b[39;00m:\n\u001b[0;32m-> 3790\u001b[0m     \u001b[39mreturn\u001b[39;00m \u001b[39mself\u001b[39;49m\u001b[39m.\u001b[39;49m_engine\u001b[39m.\u001b[39;49mget_loc(casted_key)\n\u001b[1;32m   3791\u001b[0m \u001b[39mexcept\u001b[39;00m \u001b[39mKeyError\u001b[39;00m \u001b[39mas\u001b[39;00m err:\n",
      "File \u001b[0;32mindex.pyx:152\u001b[0m, in \u001b[0;36mpandas._libs.index.IndexEngine.get_loc\u001b[0;34m()\u001b[0m\n",
      "File \u001b[0;32mindex.pyx:181\u001b[0m, in \u001b[0;36mpandas._libs.index.IndexEngine.get_loc\u001b[0;34m()\u001b[0m\n",
      "File \u001b[0;32mpandas/_libs/hashtable_class_helper.pxi:7080\u001b[0m, in \u001b[0;36mpandas._libs.hashtable.PyObjectHashTable.get_item\u001b[0;34m()\u001b[0m\n",
      "File \u001b[0;32mpandas/_libs/hashtable_class_helper.pxi:7088\u001b[0m, in \u001b[0;36mpandas._libs.hashtable.PyObjectHashTable.get_item\u001b[0;34m()\u001b[0m\n",
      "\u001b[0;31mKeyError\u001b[0m: 'number'",
      "\nThe above exception was the direct cause of the following exception:\n",
      "\u001b[0;31mKeyError\u001b[0m                                  Traceback (most recent call last)",
      "Cell \u001b[0;32mIn[3], line 34\u001b[0m\n\u001b[1;32m     31\u001b[0m roastery_detail \u001b[38;5;241m=\u001b[39m get_roastery_detailed_data()\n\u001b[1;32m     32\u001b[0m dim_products    \u001b[38;5;241m=\u001b[39m get_products_data()\n\u001b[0;32m---> 34\u001b[0m bakery_batch        \u001b[38;5;241m=\u001b[39m \u001b[43mproduction_batches\u001b[49m\u001b[43m(\u001b[49m\u001b[43mbakery\u001b[49m\u001b[43m,\u001b[49m\u001b[43m \u001b[49m\u001b[43mdim_products\u001b[49m\u001b[43m,\u001b[49m\u001b[43m \u001b[49m\u001b[43mbakery_prediction\u001b[49m\u001b[43m,\u001b[49m\u001b[43m \u001b[49m\u001b[43mbakery_detail\u001b[49m\u001b[43m)\u001b[49m\n\u001b[1;32m     35\u001b[0m roast_chiken_batch  \u001b[38;5;241m=\u001b[39m production_batches(roastery, dim_products, roastery_prediction, roastery_detail)\n",
      "File \u001b[0;32m~/Documents/BF/smu_04_modelo_produccion/flux_mockup/src/data/fetch.py:121\u001b[0m, in \u001b[0;36mproduction_batches\u001b[0;34m(df, products, predictions, detail)\u001b[0m\n\u001b[1;32m    118\u001b[0m bin_edges \u001b[39m=\u001b[39m [i \u001b[39mfor\u001b[39;00m i \u001b[39min\u001b[39;00m \u001b[39mrange\u001b[39m(\u001b[39m0\u001b[39m, \u001b[39m93\u001b[39m, \u001b[39m3\u001b[39m)]\n\u001b[1;32m    120\u001b[0m \u001b[39m# Calculates the sum of peso for each number range in relation to the products column.\u001b[39;00m\n\u001b[0;32m--> 121\u001b[0m df[\u001b[39m'\u001b[39m\u001b[39mintervalo_\u001b[39m\u001b[39m'\u001b[39m] \u001b[39m=\u001b[39m pd\u001b[39m.\u001b[39mcut(df[\u001b[39m'\u001b[39;49m\u001b[39mnumber\u001b[39;49m\u001b[39m'\u001b[39;49m], bins\u001b[39m=\u001b[39mbin_edges, right\u001b[39m=\u001b[39m\u001b[39mTrue\u001b[39;00m)\n\u001b[1;32m    122\u001b[0m df \u001b[39m=\u001b[39m df\u001b[39m.\u001b[39mgroupby([\u001b[39m'\u001b[39m\u001b[39msku\u001b[39m\u001b[39m'\u001b[39m, \u001b[39m'\u001b[39m\u001b[39mintervalo_\u001b[39m\u001b[39m'\u001b[39m])[\u001b[39m'\u001b[39m\u001b[39mweight\u001b[39m\u001b[39m'\u001b[39m]\u001b[39m.\u001b[39msum()\u001b[39m.\u001b[39mreset_index()\n\u001b[1;32m    123\u001b[0m df[\u001b[39m'\u001b[39m\u001b[39mweight\u001b[39m\u001b[39m'\u001b[39m]\u001b[39m.\u001b[39mfillna(\u001b[39m0\u001b[39m, inplace\u001b[39m=\u001b[39m\u001b[39mTrue\u001b[39;00m)\n",
      "File \u001b[0;32m~/Documents/BF/smu_04_modelo_produccion/flux_mockup/env/lib/python3.10/site-packages/pandas/core/frame.py:3893\u001b[0m, in \u001b[0;36mDataFrame.__getitem__\u001b[0;34m(self, key)\u001b[0m\n\u001b[1;32m   3891\u001b[0m \u001b[39mif\u001b[39;00m \u001b[39mself\u001b[39m\u001b[39m.\u001b[39mcolumns\u001b[39m.\u001b[39mnlevels \u001b[39m>\u001b[39m \u001b[39m1\u001b[39m:\n\u001b[1;32m   3892\u001b[0m     \u001b[39mreturn\u001b[39;00m \u001b[39mself\u001b[39m\u001b[39m.\u001b[39m_getitem_multilevel(key)\n\u001b[0;32m-> 3893\u001b[0m indexer \u001b[39m=\u001b[39m \u001b[39mself\u001b[39;49m\u001b[39m.\u001b[39;49mcolumns\u001b[39m.\u001b[39;49mget_loc(key)\n\u001b[1;32m   3894\u001b[0m \u001b[39mif\u001b[39;00m is_integer(indexer):\n\u001b[1;32m   3895\u001b[0m     indexer \u001b[39m=\u001b[39m [indexer]\n",
      "File \u001b[0;32m~/Documents/BF/smu_04_modelo_produccion/flux_mockup/env/lib/python3.10/site-packages/pandas/core/indexes/base.py:3797\u001b[0m, in \u001b[0;36mIndex.get_loc\u001b[0;34m(self, key)\u001b[0m\n\u001b[1;32m   3792\u001b[0m     \u001b[39mif\u001b[39;00m \u001b[39misinstance\u001b[39m(casted_key, \u001b[39mslice\u001b[39m) \u001b[39mor\u001b[39;00m (\n\u001b[1;32m   3793\u001b[0m         \u001b[39misinstance\u001b[39m(casted_key, abc\u001b[39m.\u001b[39mIterable)\n\u001b[1;32m   3794\u001b[0m         \u001b[39mand\u001b[39;00m \u001b[39many\u001b[39m(\u001b[39misinstance\u001b[39m(x, \u001b[39mslice\u001b[39m) \u001b[39mfor\u001b[39;00m x \u001b[39min\u001b[39;00m casted_key)\n\u001b[1;32m   3795\u001b[0m     ):\n\u001b[1;32m   3796\u001b[0m         \u001b[39mraise\u001b[39;00m InvalidIndexError(key)\n\u001b[0;32m-> 3797\u001b[0m     \u001b[39mraise\u001b[39;00m \u001b[39mKeyError\u001b[39;00m(key) \u001b[39mfrom\u001b[39;00m \u001b[39merr\u001b[39;00m\n\u001b[1;32m   3798\u001b[0m \u001b[39mexcept\u001b[39;00m \u001b[39mTypeError\u001b[39;00m:\n\u001b[1;32m   3799\u001b[0m     \u001b[39m# If we have a listlike key, _check_indexing_error will raise\u001b[39;00m\n\u001b[1;32m   3800\u001b[0m     \u001b[39m#  InvalidIndexError. Otherwise we fall through and re-raise\u001b[39;00m\n\u001b[1;32m   3801\u001b[0m     \u001b[39m#  the TypeError.\u001b[39;00m\n\u001b[1;32m   3802\u001b[0m     \u001b[39mself\u001b[39m\u001b[39m.\u001b[39m_check_indexing_error(key)\n",
      "\u001b[0;31mKeyError\u001b[0m: 'number'"
     ]
    }
   ],
   "source": [
    "##################################################################\n",
    "# Libraries\n",
    "##################################################################\n",
    "from datetime import timedelta\n",
    "import os\n",
    "from utils.logging_decorator import exception, logger\n",
    "from data.preprocessing import (\n",
    "                        get_store_params_and_products_list, \n",
    "                        get_bakery_and_roastery_data, \n",
    "                        open_prediction,\n",
    "                        production_batches,\n",
    "                        get_products_to_produce\n",
    "                        )\n",
    "from data.fetch import (\n",
    "                        get_dim_products_data,\n",
    "                        get_bakery_detailed_data,\n",
    "                        get_roastery_detailed_data,\n",
    "                        get_prediction_data\n",
    ")\n",
    "\n",
    "##################################################################\n",
    "# Env Variables\n",
    "##################################################################\n",
    "\n",
    "store_id = 67\n",
    "\n",
    "##################################################################\n",
    "# Main function\n",
    "##################################################################\n",
    "@exception(logger)\n",
    "def main_function():\n",
    "    store_params, products_list = get_store_params_and_products_list(store_id)\n",
    "    \n",
    "    products_to_produce = get_products_to_produce(products_list)    \n",
    "\n",
    "    prediction_data = get_prediction_data(store_id)\n",
    "\n",
    "    bakery, roastery, bakery_validator, roastery_validator  = get_bakery_and_roastery_data(products_to_produce, prediction_data)\n",
    "\n",
    "    bakery_prediction   = open_prediction(bakery, store_id)\n",
    "    roastery_prediction = open_prediction(roastery, store_id)\n",
    "\n",
    "    bakery_detail   = get_bakery_detailed_data()\n",
    "    roastery_detail = get_roastery_detailed_data()\n",
    "    dim_products    = get_dim_products_data()\n",
    "\n",
    "\n",
    "##################################################################\n",
    "# Execute\n",
    "##################################################################\n",
    "if __name__ == '__main__':\n",
    "    main_function()\n"
   ]
  }
 ],
 "metadata": {
  "kernelspec": {
   "display_name": "Python 3.10.6 ('env': venv)",
   "language": "python",
   "name": "python3"
  },
  "language_info": {
   "codemirror_mode": {
    "name": "ipython",
    "version": 3
   },
   "file_extension": ".py",
   "mimetype": "text/x-python",
   "name": "python",
   "nbconvert_exporter": "python",
   "pygments_lexer": "ipython3",
   "version": "3.10.6"
  },
  "orig_nbformat": 4,
  "vscode": {
   "interpreter": {
    "hash": "281d612c63a9cb153108dcef471c9482f0148fa0dd80c74eb273b304ff1a1250"
   }
  }
 },
 "nbformat": 4,
 "nbformat_minor": 2
}
