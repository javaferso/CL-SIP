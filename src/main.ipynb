{
 "cells": [
  {
   "cell_type": "code",
   "execution_count": null,
   "metadata": {},
   "outputs": [],
   "source": [
    "from data.production_plan import create_production_plan"
   ]
  },
  {
   "cell_type": "code",
   "execution_count": null,
   "metadata": {},
   "outputs": [],
   "source": [
    "store_id = 67"
   ]
  },
  {
   "cell_type": "code",
   "execution_count": null,
   "metadata": {},
   "outputs": [],
   "source": [
    "bakery_batches = {0:[8, 11],\n",
    "                1:[11, 14],\n",
    "                2:[14, 17],\n",
    "                3:[17, 21]}\n",
    "\n",
    "roast_chiken_batches = {0:[8, 12],\n",
    "                        1:[12, 21]} \n",
    "\n",
    "bakery_families = {1 : [626218, 966679, 966668],\n",
    "                   2 : [638771, 966669],\n",
    "                   3 : [966670, 632861]}"
   ]
  },
  {
   "cell_type": "code",
   "execution_count": null,
   "metadata": {},
   "outputs": [],
   "source": [
    "# Esta variable depende del tipo de horno que se tiene en cada local\n",
    "baking_trays = 12\n",
    "hourly_columns = [i/2 + 7 for i in range(30)]"
   ]
  },
  {
   "cell_type": "code",
   "execution_count": null,
   "metadata": {},
   "outputs": [],
   "source": [
    "production_plan = create_production_plan(store_id, bakery_batches, baking_trays, bakery_families, hourly_columns, roast_chiken_batches)"
   ]
  },
  {
   "cell_type": "code",
   "execution_count": null,
   "metadata": {},
   "outputs": [],
   "source": [
    "production_plan"
   ]
  }
 ],
 "metadata": {
  "kernelspec": {
   "display_name": "Python 3.10.6 ('env': venv)",
   "language": "python",
   "name": "python3"
  },
  "language_info": {
   "codemirror_mode": {
    "name": "ipython",
    "version": 3
   },
   "file_extension": ".py",
   "mimetype": "text/x-python",
   "name": "python",
   "nbconvert_exporter": "python",
   "pygments_lexer": "ipython3",
   "version": "3.10.6"
  },
  "orig_nbformat": 4,
  "vscode": {
   "interpreter": {
    "hash": "281d612c63a9cb153108dcef471c9482f0148fa0dd80c74eb273b304ff1a1250"
   }
  }
 },
 "nbformat": 4,
 "nbformat_minor": 2
}
