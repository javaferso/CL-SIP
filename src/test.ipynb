{
 "cells": [
  {
   "cell_type": "code",
   "execution_count": 1,
   "metadata": {},
   "outputs": [],
   "source": [
    "from google.cloud.sql.connector import Connector\n",
    "from contextlib import contextmanager\n",
    "import os\n",
    "import sqlalchemy\n",
    "\n",
    "\n",
    "@contextmanager\n",
    "def get_postgres_engine():\n",
    "    def get_conn():       \n",
    "        \n",
    "        connection = Connector().connect(\n",
    "            instance,\n",
    "            \"pg8000\",\n",
    "            user=user,\n",
    "            password=password,\n",
    "            db=database\n",
    "        )\n",
    "        return connection\n",
    "\n",
    "    try:\n",
    "        engine = sqlalchemy.create_engine(\n",
    "            \"postgresql+pg8000://\",\n",
    "            creator=get_conn,\n",
    "        )\n",
    "        yield engine\n",
    "    finally:\n",
    "        engine.dispose()"
   ]
  },
  {
   "cell_type": "code",
   "execution_count": 1,
   "metadata": {},
   "outputs": [
    {
     "name": "stdout",
     "output_type": "stream",
     "text": [
      "<Logger exc_logger (INFO)>\n"
     ]
    }
   ],
   "source": [
    "from connectors.sql_server import connection_to_sql_server\n",
    "from utils.logging_decorator import exception, logger"
   ]
  },
  {
   "cell_type": "code",
   "execution_count": 4,
   "metadata": {},
   "outputs": [
    {
     "name": "stderr",
     "output_type": "stream",
     "text": [
      "/Library/Frameworks/Python.framework/Versions/3.10/lib/python3.10/site-packages/pandas/io/sql.py:761: UserWarning: pandas only support SQLAlchemy connectable(engine/connection) ordatabase string URI or sqlite3 DBAPI2 connectionother DBAPI2 objects are not tested, please consider using SQLAlchemy\n",
      "  warnings.warn(\n"
     ]
    }
   ],
   "source": [
    "import pandas as pd\n",
    "\n",
    "query = \"\"\"\n",
    "SELECT\n",
    "PLU_SAP60\n",
    ",Local\n",
    ",PredictionDay\n",
    ",ReferenceDay\n",
    ",FinalForecast\n",
    "FROM BY_DemandPrediction_Day_COMP WITH (NOLOCK)\n",
    "where \n",
    "PLU_SAP60 in (858091,571581,638484, 966669,966668,626218,966670,638771,632861,966679,655130)\n",
    "and [Local] in ('0067')\n",
    "and [ReferenceDay] = '2023-10-10'\n",
    "\"\"\"\n",
    "\n",
    "with connection_to_sql_server() as conn:\n",
    "    try:\n",
    "        data = pd.read_sql(query, conn)\n",
    "    except Exception as e:\n",
    "        print(e)"
   ]
  },
  {
   "cell_type": "code",
   "execution_count": 6,
   "metadata": {},
   "outputs": [
    {
     "data": {
      "text/plain": [
       "PLU_SAP60        float64\n",
       "Local             object\n",
       "PredictionDay     object\n",
       "ReferenceDay      object\n",
       "FinalForecast    float64\n",
       "dtype: object"
      ]
     },
     "execution_count": 6,
     "metadata": {},
     "output_type": "execute_result"
    }
   ],
   "source": [
    "data.dtypes"
   ]
  }
 ],
 "metadata": {
  "kernelspec": {
   "display_name": "Python 3.10.6 64-bit",
   "language": "python",
   "name": "python3"
  },
  "language_info": {
   "codemirror_mode": {
    "name": "ipython",
    "version": 3
   },
   "file_extension": ".py",
   "mimetype": "text/x-python",
   "name": "python",
   "nbconvert_exporter": "python",
   "pygments_lexer": "ipython3",
   "version": "3.10.2"
  },
  "orig_nbformat": 4,
  "vscode": {
   "interpreter": {
    "hash": "7e1998ff7f8aa20ada591c520b972326324e5ea05489af9e422744c7c09f6dad"
   }
  }
 },
 "nbformat": 4,
 "nbformat_minor": 2
}
